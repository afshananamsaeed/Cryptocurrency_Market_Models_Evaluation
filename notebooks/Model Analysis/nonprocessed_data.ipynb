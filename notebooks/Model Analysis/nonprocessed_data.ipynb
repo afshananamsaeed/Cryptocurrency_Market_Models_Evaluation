{
 "cells": [
  {
   "cell_type": "code",
   "execution_count": 1,
   "metadata": {},
   "outputs": [],
   "source": [
    "import pandas as pd\n",
    "pd.set_option('display.max_rows', None)\n",
    "pd.set_option('display.max_columns', None)\n",
    "import os\n",
    "os.chdir('/home/ubuntu/Masters_Thesis/scripts')"
   ]
  },
  {
   "cell_type": "code",
   "execution_count": 2,
   "metadata": {},
   "outputs": [
    {
     "name": "stderr",
     "output_type": "stream",
     "text": [
      "/tmp/ipykernel_440334/1475280628.py:18: SettingWithCopyWarning: \n",
      "A value is trying to be set on a copy of a slice from a DataFrame\n",
      "\n",
      "See the caveats in the documentation: https://pandas.pydata.org/pandas-docs/stable/user_guide/indexing.html#returning-a-view-versus-a-copy\n",
      "  data_15_100_np.drop(columns=['processed'], inplace = True)\n",
      "/tmp/ipykernel_440334/1475280628.py:19: SettingWithCopyWarning: \n",
      "A value is trying to be set on a copy of a slice from a DataFrame\n",
      "\n",
      "See the caveats in the documentation: https://pandas.pydata.org/pandas-docs/stable/user_guide/indexing.html#returning-a-view-versus-a-copy\n",
      "  data_30_100_np.drop(columns=['processed'], inplace = True)\n"
     ]
    }
   ],
   "source": [
    "data_price_100 = pd.read_csv('/home/ubuntu/Masters_Thesis/results/final_results/parameter_tuning/selected_lr_output_price_only_forecast_7.csv', usecols=['network_name', 'test_mae', 'price_past'])\n",
    "# data_price_500 = pd.read_csv('/home/ubuntu/Masters_Thesis/results/final_results/final_model_results/output_manual_price_only_forecast_0.csv', usecols=['network_name', 'test_mae', 'price_past'])\n",
    "data_price_500 = pd.read_csv('/home/ubuntu/Masters_Thesis/results/final_results/final_model_results/Final_model_output_price_only_forecast_7.csv', usecols=['network_name', 'test_mae', 'price_past'])\n",
    "\n",
    "# data_5_100 = pd.read_csv('/home/ubuntu/Masters_Thesis/results/final_results/parameter_tuning/selected_lr_output_SPT_5_5_1.csv', usecols=['network_name', 'feature', 'test_mae', 'processed'])\n",
    "data_15_100 = pd.read_csv('/home/ubuntu/Masters_Thesis/results/final_results/parameter_tuning/selected_lr_output_SPT_15_15_7.csv', usecols=['network_name', 'feature', 'test_mae', 'processed'])\n",
    "data_30_100 = pd.read_csv('/home/ubuntu/Masters_Thesis/results/final_results/parameter_tuning/selected_lr_output_SPT_30_30_7.csv', usecols=['network_name', 'feature', 'test_mae', 'processed'])\n",
    "\n",
    "# data_5_500_np = pd.read_csv('/home/ubuntu/Masters_Thesis/results/final_results/final_model_results/Final_model_outputs_processed_False_SPT_5_5_1.csv', usecols=['network_name', 'feature', 'test_mae'])\n",
    "data_15_500_np = pd.read_csv('/home/ubuntu/Masters_Thesis/results/final_results/final_model_results/Final_model_outputs_processed_False_SPT_15_15_7.csv', usecols=['network_name', 'feature', 'test_mae'])\n",
    "data_30_500_np = pd.read_csv('/home/ubuntu/Masters_Thesis/results/final_results/final_model_results/Final_model_outputs_processed_False_SPT_30_30_7.csv', usecols=['network_name', 'feature', 'test_mae'])\n",
    "\n",
    "# data_5_100_np = data_5_100[data_5_100['processed'] == False]\n",
    "data_15_100_np = data_15_100[data_15_100['processed'] == False]\n",
    "data_30_100_np = data_30_100[data_30_100['processed'] == False]\n",
    "\n",
    "# data_5_100_np.drop(columns=['processed'], inplace = True)\n",
    "data_15_100_np.drop(columns=['processed'], inplace = True)\n",
    "data_30_100_np.drop(columns=['processed'], inplace = True)"
   ]
  },
  {
   "cell_type": "code",
   "execution_count": 3,
   "metadata": {},
   "outputs": [
    {
     "name": "stderr",
     "output_type": "stream",
     "text": [
      "/tmp/ipykernel_440334/1895751415.py:9: SettingWithCopyWarning: \n",
      "A value is trying to be set on a copy of a slice from a DataFrame\n",
      "\n",
      "See the caveats in the documentation: https://pandas.pydata.org/pandas-docs/stable/user_guide/indexing.html#returning-a-view-versus-a-copy\n",
      "  data_price_5_100.drop(columns=['price_past'], inplace = True)\n",
      "/tmp/ipykernel_440334/1895751415.py:10: SettingWithCopyWarning: \n",
      "A value is trying to be set on a copy of a slice from a DataFrame\n",
      "\n",
      "See the caveats in the documentation: https://pandas.pydata.org/pandas-docs/stable/user_guide/indexing.html#returning-a-view-versus-a-copy\n",
      "  data_price_15_100.drop(columns=['price_past'], inplace = True)\n",
      "/tmp/ipykernel_440334/1895751415.py:11: SettingWithCopyWarning: \n",
      "A value is trying to be set on a copy of a slice from a DataFrame\n",
      "\n",
      "See the caveats in the documentation: https://pandas.pydata.org/pandas-docs/stable/user_guide/indexing.html#returning-a-view-versus-a-copy\n",
      "  data_price_30_100.drop(columns=['price_past'], inplace = True)\n",
      "/tmp/ipykernel_440334/1895751415.py:13: SettingWithCopyWarning: \n",
      "A value is trying to be set on a copy of a slice from a DataFrame\n",
      "\n",
      "See the caveats in the documentation: https://pandas.pydata.org/pandas-docs/stable/user_guide/indexing.html#returning-a-view-versus-a-copy\n",
      "  data_price_5_500.drop(columns=['price_past'], inplace = True)\n",
      "/tmp/ipykernel_440334/1895751415.py:14: SettingWithCopyWarning: \n",
      "A value is trying to be set on a copy of a slice from a DataFrame\n",
      "\n",
      "See the caveats in the documentation: https://pandas.pydata.org/pandas-docs/stable/user_guide/indexing.html#returning-a-view-versus-a-copy\n",
      "  data_price_15_500.drop(columns=['price_past'], inplace = True)\n",
      "/tmp/ipykernel_440334/1895751415.py:15: SettingWithCopyWarning: \n",
      "A value is trying to be set on a copy of a slice from a DataFrame\n",
      "\n",
      "See the caveats in the documentation: https://pandas.pydata.org/pandas-docs/stable/user_guide/indexing.html#returning-a-view-versus-a-copy\n",
      "  data_price_30_500.drop(columns=['price_past'], inplace = True)\n"
     ]
    }
   ],
   "source": [
    "data_price_5_100 = data_price_100[data_price_100['price_past'] == 5]\n",
    "data_price_15_100 = data_price_100[data_price_100['price_past'] == 15]\n",
    "data_price_30_100 = data_price_100[data_price_100['price_past'] == 30]\n",
    "\n",
    "data_price_5_500 = data_price_500[data_price_500['price_past'] == 5]\n",
    "data_price_15_500 = data_price_500[data_price_500['price_past'] == 15]\n",
    "data_price_30_500 = data_price_500[data_price_500['price_past'] == 30]\n",
    "\n",
    "data_price_5_100.drop(columns=['price_past'], inplace = True)\n",
    "data_price_15_100.drop(columns=['price_past'], inplace = True)\n",
    "data_price_30_100.drop(columns=['price_past'], inplace = True)\n",
    "\n",
    "data_price_5_500.drop(columns=['price_past'], inplace = True)\n",
    "data_price_15_500.drop(columns=['price_past'], inplace = True)\n",
    "data_price_30_500.drop(columns=['price_past'], inplace = True)"
   ]
  },
  {
   "cell_type": "code",
   "execution_count": 4,
   "metadata": {},
   "outputs": [
    {
     "name": "stderr",
     "output_type": "stream",
     "text": [
      "/tmp/ipykernel_440334/1576254461.py:1: SettingWithCopyWarning: \n",
      "A value is trying to be set on a copy of a slice from a DataFrame\n",
      "\n",
      "See the caveats in the documentation: https://pandas.pydata.org/pandas-docs/stable/user_guide/indexing.html#returning-a-view-versus-a-copy\n",
      "  data_price_5_100.rename(columns={'test_mae': 'mae_5_100'}, inplace=True)\n",
      "/tmp/ipykernel_440334/1576254461.py:2: SettingWithCopyWarning: \n",
      "A value is trying to be set on a copy of a slice from a DataFrame\n",
      "\n",
      "See the caveats in the documentation: https://pandas.pydata.org/pandas-docs/stable/user_guide/indexing.html#returning-a-view-versus-a-copy\n",
      "  data_price_15_100.rename(columns={'test_mae': 'mae_15_100'}, inplace=True)\n",
      "/tmp/ipykernel_440334/1576254461.py:3: SettingWithCopyWarning: \n",
      "A value is trying to be set on a copy of a slice from a DataFrame\n",
      "\n",
      "See the caveats in the documentation: https://pandas.pydata.org/pandas-docs/stable/user_guide/indexing.html#returning-a-view-versus-a-copy\n",
      "  data_price_30_100.rename(columns={'test_mae': 'mae_30_100'}, inplace=True)\n",
      "/tmp/ipykernel_440334/1576254461.py:5: SettingWithCopyWarning: \n",
      "A value is trying to be set on a copy of a slice from a DataFrame\n",
      "\n",
      "See the caveats in the documentation: https://pandas.pydata.org/pandas-docs/stable/user_guide/indexing.html#returning-a-view-versus-a-copy\n",
      "  data_price_5_500.rename(columns={'test_mae': 'mae_5_500'}, inplace=True)\n",
      "/tmp/ipykernel_440334/1576254461.py:6: SettingWithCopyWarning: \n",
      "A value is trying to be set on a copy of a slice from a DataFrame\n",
      "\n",
      "See the caveats in the documentation: https://pandas.pydata.org/pandas-docs/stable/user_guide/indexing.html#returning-a-view-versus-a-copy\n",
      "  data_price_15_500.rename(columns={'test_mae': 'mae_15_500'}, inplace=True)\n",
      "/tmp/ipykernel_440334/1576254461.py:7: SettingWithCopyWarning: \n",
      "A value is trying to be set on a copy of a slice from a DataFrame\n",
      "\n",
      "See the caveats in the documentation: https://pandas.pydata.org/pandas-docs/stable/user_guide/indexing.html#returning-a-view-versus-a-copy\n",
      "  data_price_30_500.rename(columns={'test_mae': 'mae_30_500'}, inplace=True)\n",
      "/tmp/ipykernel_440334/1576254461.py:10: SettingWithCopyWarning: \n",
      "A value is trying to be set on a copy of a slice from a DataFrame\n",
      "\n",
      "See the caveats in the documentation: https://pandas.pydata.org/pandas-docs/stable/user_guide/indexing.html#returning-a-view-versus-a-copy\n",
      "  data_15_100_np.rename(columns={'test_mae': 'mae_15_100'}, inplace=True)\n",
      "/tmp/ipykernel_440334/1576254461.py:11: SettingWithCopyWarning: \n",
      "A value is trying to be set on a copy of a slice from a DataFrame\n",
      "\n",
      "See the caveats in the documentation: https://pandas.pydata.org/pandas-docs/stable/user_guide/indexing.html#returning-a-view-versus-a-copy\n",
      "  data_30_100_np.rename(columns={'test_mae': 'mae_30_100'}, inplace=True)\n"
     ]
    }
   ],
   "source": [
    "data_price_5_100.rename(columns={'test_mae': 'mae_5_100'}, inplace=True)\n",
    "data_price_15_100.rename(columns={'test_mae': 'mae_15_100'}, inplace=True)\n",
    "data_price_30_100.rename(columns={'test_mae': 'mae_30_100'}, inplace=True)\n",
    "\n",
    "data_price_5_500.rename(columns={'test_mae': 'mae_5_500'}, inplace=True)\n",
    "data_price_15_500.rename(columns={'test_mae': 'mae_15_500'}, inplace=True)\n",
    "data_price_30_500.rename(columns={'test_mae': 'mae_30_500'}, inplace=True)\n",
    "\n",
    "# data_5_100_np.rename(columns={'test_mae': 'mae_5_100'}, inplace=True)\n",
    "data_15_100_np.rename(columns={'test_mae': 'mae_15_100'}, inplace=True)\n",
    "data_30_100_np.rename(columns={'test_mae': 'mae_30_100'}, inplace=True)\n",
    "\n",
    "# data_5_500_np.rename(columns={'test_mae': 'mae_5_500'}, inplace=True)\n",
    "data_15_500_np.rename(columns={'test_mae': 'mae_15_500'}, inplace=True)\n",
    "data_30_500_np.rename(columns={'test_mae': 'mae_30_500'}, inplace=True)"
   ]
  },
  {
   "cell_type": "code",
   "execution_count": 5,
   "metadata": {},
   "outputs": [
    {
     "name": "stderr",
     "output_type": "stream",
     "text": [
      "/tmp/ipykernel_440334/4047982658.py:2: SettingWithCopyWarning: \n",
      "A value is trying to be set on a copy of a slice from a DataFrame.\n",
      "Try using .loc[row_indexer,col_indexer] = value instead\n",
      "\n",
      "See the caveats in the documentation: https://pandas.pydata.org/pandas-docs/stable/user_guide/indexing.html#returning-a-view-versus-a-copy\n",
      "  data_price_15_100['feature'] = 'Price-Only'\n",
      "/tmp/ipykernel_440334/4047982658.py:3: SettingWithCopyWarning: \n",
      "A value is trying to be set on a copy of a slice from a DataFrame.\n",
      "Try using .loc[row_indexer,col_indexer] = value instead\n",
      "\n",
      "See the caveats in the documentation: https://pandas.pydata.org/pandas-docs/stable/user_guide/indexing.html#returning-a-view-versus-a-copy\n",
      "  data_price_30_100['feature'] = 'Price-Only'\n",
      "/tmp/ipykernel_440334/4047982658.py:6: SettingWithCopyWarning: \n",
      "A value is trying to be set on a copy of a slice from a DataFrame.\n",
      "Try using .loc[row_indexer,col_indexer] = value instead\n",
      "\n",
      "See the caveats in the documentation: https://pandas.pydata.org/pandas-docs/stable/user_guide/indexing.html#returning-a-view-versus-a-copy\n",
      "  data_price_15_500['feature'] = 'Price-Only'\n",
      "/tmp/ipykernel_440334/4047982658.py:7: SettingWithCopyWarning: \n",
      "A value is trying to be set on a copy of a slice from a DataFrame.\n",
      "Try using .loc[row_indexer,col_indexer] = value instead\n",
      "\n",
      "See the caveats in the documentation: https://pandas.pydata.org/pandas-docs/stable/user_guide/indexing.html#returning-a-view-versus-a-copy\n",
      "  data_price_30_500['feature'] = 'Price-Only'\n"
     ]
    }
   ],
   "source": [
    "data_price_5_100['feature'] = 'Price-Only'\n",
    "data_price_15_100['feature'] = 'Price-Only'\n",
    "data_price_30_100['feature'] = 'Price-Only'\n",
    "\n",
    "data_price_5_500['feature'] = 'Price-Only'\n",
    "data_price_15_500['feature'] = 'Price-Only'\n",
    "data_price_30_500['feature'] = 'Price-Only'"
   ]
  },
  {
   "cell_type": "code",
   "execution_count": 6,
   "metadata": {},
   "outputs": [],
   "source": [
    "# stacked_df_5_100 = pd.concat([data_price_5_100, data_5_100_np], axis=0)\n",
    "stacked_df_15_100 = pd.concat([data_price_15_100, data_15_100_np], axis=0)\n",
    "stacked_df_30_100 = pd.concat([data_price_30_100, data_30_100_np], axis=0)\n",
    "\n",
    "# final_df_100 = pd.merge(stacked_df_5_100, stacked_df_15_100, on=['network_name', 'feature'])\n",
    "# final_df_100 = pd.merge(final_df_100, stacked_df_30_100, on=['network_name', 'feature'])\n",
    "final_df_100 = pd.merge(stacked_df_15_100, stacked_df_30_100, on=['network_name', 'feature'])"
   ]
  },
  {
   "cell_type": "code",
   "execution_count": 7,
   "metadata": {},
   "outputs": [],
   "source": [
    "# stacked_df_5_500 = pd.concat([data_price_5_500, data_5_500_np], axis=0)\n",
    "stacked_df_15_500 = pd.concat([data_price_15_500, data_15_500_np], axis=0)\n",
    "stacked_df_30_500 = pd.concat([data_price_30_500, data_30_500_np], axis=0)\n",
    "\n",
    "# final_df_500 = pd.merge(stacked_df_5_500, stacked_df_15_500, on=['network_name', 'feature'])\n",
    "# final_df_500 = pd.merge(final_df_500, stacked_df_30_500, on=['network_name', 'feature'])\n",
    "final_df_500 = pd.merge(stacked_df_15_500, stacked_df_30_500, on=['network_name', 'feature'])"
   ]
  },
  {
   "cell_type": "code",
   "execution_count": 8,
   "metadata": {},
   "outputs": [],
   "source": [
    "final_df = pd.merge(final_df_100, final_df_500, on=['network_name', 'feature'])"
   ]
  },
  {
   "cell_type": "code",
   "execution_count": 9,
   "metadata": {},
   "outputs": [],
   "source": [
    "processed = {'Price-Only': 'Price-Only', 'flair_processed_data_score': 'Flair', 'textblob_processed_data_polarity_score':'TB_Polarity', 'textblob_processed_data_subjectivity_score': 'TB_Subjectivity', 'vader_processed_data_score': 'Vader', 'bert_processed_data_sentiment_score': 'Bert', 'roberta_processed_data_sentiment_score': 'Roberta'}\n",
    "nonprocessed = {'Price-Only': 'Price-Only', 'flair_nonprocessed_data_score': 'Flair', 'textblob_nonprocessed_data_polarity_score':'TB_Polarity', 'textblob_nonprocessed_data_subjectivity_score': 'TB_Subjectivity', 'vader_nonprocessed_data_score': 'Vader', 'bert_nonprocessed_data_sentiment_score': 'Bert', 'roberta_nonprocessed_data_sentiment_score': 'Roberta'}\n",
    "def change_processed_name(data):\n",
    "    data_copy = data.copy()\n",
    "    data_copy['feature'] = data_copy['feature'].apply(lambda x: processed.get(x) if x in processed else nonprocessed.get(x))\n",
    "    return data_copy\n",
    "\n",
    "final_df = change_processed_name(final_df)"
   ]
  },
  {
   "cell_type": "code",
   "execution_count": 10,
   "metadata": {},
   "outputs": [],
   "source": [
    "final_df.to_csv('/home/ubuntu/Masters_Thesis/results/final_results/final_model_results/NonProcessed_Result_W7.csv')"
   ]
  },
  {
   "cell_type": "code",
   "execution_count": null,
   "metadata": {},
   "outputs": [],
   "source": []
  }
 ],
 "metadata": {
  "kernelspec": {
   "display_name": "Python 3",
   "language": "python",
   "name": "python3"
  },
  "language_info": {
   "codemirror_mode": {
    "name": "ipython",
    "version": 3
   },
   "file_extension": ".py",
   "mimetype": "text/x-python",
   "name": "python",
   "nbconvert_exporter": "python",
   "pygments_lexer": "ipython3",
   "version": "3.8.10"
  }
 },
 "nbformat": 4,
 "nbformat_minor": 2
}
