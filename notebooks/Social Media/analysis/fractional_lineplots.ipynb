{
 "cells": [
  {
   "cell_type": "code",
   "execution_count": null,
   "metadata": {},
   "outputs": [],
   "source": [
    "import pandas as pd\n",
    "import numpy as np\n",
    "import matplotlib.pyplot as plt\n",
    "import warnings\n",
    "warnings.filterwarnings(\"ignore\")\n",
    "\n",
    "import os\n",
    "os.chdir('/home/ubuntu/Masters_Thesis')\n",
    "\n",
    "from scripts.utilities.visualisation import *\n",
    "\n",
    "from matplotlib import font_manager\n",
    "font_dirs = ['/home/ubuntu/Masters_Thesis/Fonts']\n",
    "font_files = font_manager.findSystemFonts(fontpaths=font_dirs)\n",
    "for font_file in font_files:\n",
    "    font_manager.fontManager.addfont(font_file)\n",
    "plt.style.use('https://raw.githubusercontent.com/benckj/mpl_style/main/uzh.mplstyle')"
   ]
  },
  {
   "cell_type": "code",
   "execution_count": null,
   "metadata": {},
   "outputs": [],
   "source": [
    "data_unprocessed_with_bots = pd.read_csv(\"/mnt/dataset1/raw_data/Bitcoin_twitter_data_english_non_textprocessed.csv\", lineterminator='\\n')\n",
    "data_unprocessed_with_bots.drop(columns=[\"Unnamed: 0\", \"user_location\", \"user_description\"], inplace=True)\n",
    "\n",
    "data_unprocessed_wo_bots = pd.read_csv(\"/mnt/dataset1/raw_data/Bitcoin_twitter_data_english_non_textprocessed_botremovedtweets.csv\", lineterminator='\\n')\n",
    "data_unprocessed_wo_bots.drop(columns=[\"Unnamed: 0\", \"user_location\", \"user_description\"], inplace=True)"
   ]
  },
  {
   "cell_type": "code",
   "execution_count": null,
   "metadata": {},
   "outputs": [],
   "source": [
    "data_unprocessed_with_bots['date'] = pd.to_datetime(data_unprocessed_with_bots['date'])\n",
    "data_unprocessed_with_bots['user_created'] = pd.to_datetime(data_unprocessed_with_bots['user_created'])\n",
    "data_unprocessed_with_bots['user_age'] = (data_unprocessed_with_bots[\"date\"] - data_unprocessed_with_bots[\"user_created\"]).dt.days\n",
    "\n",
    "data_unprocessed_wo_bots['date'] = pd.to_datetime(data_unprocessed_wo_bots['date'])\n",
    "data_unprocessed_wo_bots['user_created'] = pd.to_datetime(data_unprocessed_wo_bots['user_created'])\n",
    "data_unprocessed_wo_bots['user_age'] = (data_unprocessed_wo_bots[\"date\"] - data_unprocessed_wo_bots[\"user_created\"]).dt.days"
   ]
  },
  {
   "cell_type": "code",
   "execution_count": null,
   "metadata": {},
   "outputs": [],
   "source": [
    "user_data_withbots = data_unprocessed_with_bots[[\"date\", \"user_name\", \"user_age\", \"user_followers\", \"user_friends\", \"user_favourites\", \"user_verified\"]]\n",
    "user_data_wobots = data_unprocessed_wo_bots[[\"date\", \"user_name\", \"user_age\", \"user_followers\", \"user_friends\", \"user_favourites\", \"user_verified\"]]\n",
    "\n",
    "# create user influence metric\n",
    "user_data_withbots['user_influence'] = ((user_data_withbots['user_followers']+1)/(np.log(user_data_withbots['user_friends']+1)+1))*(user_data_withbots['user_favourites']+1)*(user_data_withbots[\"user_verified\"]+1)\n",
    "user_data_wobots['user_influence'] = ((user_data_wobots['user_followers']+1)/(np.log(user_data_wobots['user_friends']+1)+1))*(user_data_wobots['user_favourites']+1)*(user_data_wobots[\"user_verified\"]+1)"
   ]
  },
  {
   "cell_type": "code",
   "execution_count": null,
   "metadata": {},
   "outputs": [],
   "source": [
    "# make_fractional_lineplot_with_bins_by_date(user_data_withbots, \"user_followers\", bin_count=None, bot_removed = False)\n",
    "# make_fractional_lineplot_with_bins_by_date(user_data_wobots, \"user_followers\", bin_count=None, bot_removed = True)\n",
    "# make_fractional_lineplot_with_bins_by_date(user_data_withbots, \"user_friends\", bin_count=None, bot_removed = False)\n",
    "# make_fractional_lineplot_with_bins_by_date(user_data_wobots, \"user_friends\", bin_count=None, bot_removed = True)\n",
    "# make_fractional_lineplot_with_bins_by_date(user_data_withbots, \"user_favourites\", bin_count=None, bot_removed = False)\n",
    "# make_fractional_lineplot_with_bins_by_date(user_data_wobots, \"user_favourites\", bin_count=None, bot_removed = True)\n",
    "# make_fractional_lineplot_with_bins_by_date(user_data_withbots, \"user_influence\", bin_count=None, bot_removed = False)\n",
    "# make_fractional_lineplot_with_bins_by_date(user_data_wobots, \"user_influence\", bin_count=None, bot_removed = True)"
   ]
  },
  {
   "cell_type": "code",
   "execution_count": null,
   "metadata": {},
   "outputs": [],
   "source": [
    "make_fractional_lineplot_with_bins_by_date(user_data_withbots, \"user_followers\", bin_count=10, bot_removed = False)\n",
    "make_fractional_lineplot_with_bins_by_date(user_data_wobots, \"user_followers\", bin_count=10, bot_removed = True)\n",
    "make_fractional_lineplot_with_bins_by_date(user_data_withbots, \"user_friends\", bin_count=10, bot_removed = False)\n",
    "make_fractional_lineplot_with_bins_by_date(user_data_wobots, \"user_friends\", bin_count=10, bot_removed = True)\n",
    "make_fractional_lineplot_with_bins_by_date(user_data_withbots, \"user_favourites\", bin_count=10, bot_removed = False)\n",
    "make_fractional_lineplot_with_bins_by_date(user_data_wobots, \"user_favourites\", bin_count=10, bot_removed = True)\n",
    "make_fractional_lineplot_with_bins_by_date(user_data_withbots, \"user_influence\", bin_count=10, bot_removed = False)\n",
    "make_fractional_lineplot_with_bins_by_date(user_data_wobots, \"user_influence\", bin_count=10, bot_removed = True)"
   ]
  }
 ],
 "metadata": {
  "kernelspec": {
   "display_name": "Python 3",
   "language": "python",
   "name": "python3"
  },
  "language_info": {
   "codemirror_mode": {
    "name": "ipython",
    "version": 3
   },
   "file_extension": ".py",
   "mimetype": "text/x-python",
   "name": "python",
   "nbconvert_exporter": "python",
   "pygments_lexer": "ipython3",
   "version": "3.8.10"
  }
 },
 "nbformat": 4,
 "nbformat_minor": 2
}
