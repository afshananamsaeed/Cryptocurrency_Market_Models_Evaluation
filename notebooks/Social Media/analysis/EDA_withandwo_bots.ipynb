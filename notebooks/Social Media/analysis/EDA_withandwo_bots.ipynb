{
 "cells": [
  {
   "cell_type": "code",
   "execution_count": null,
   "metadata": {},
   "outputs": [],
   "source": [
    "import pandas as pd\n",
    "import numpy as np\n",
    "import matplotlib.pyplot as plt\n",
    "import warnings\n",
    "warnings.filterwarnings(\"ignore\")\n",
    "\n",
    "import os\n",
    "os.chdir('/home/ubuntu/Masters_Thesis')\n",
    "\n",
    "from scripts.utilities.visualisation import *\n",
    "\n",
    "from matplotlib import font_manager\n",
    "font_dirs = ['/home/ubuntu/Masters_Thesis/Fonts']\n",
    "font_files = font_manager.findSystemFonts(fontpaths=font_dirs)\n",
    "for font_file in font_files:\n",
    "    font_manager.fontManager.addfont(font_file)\n",
    "plt.style.use('https://raw.githubusercontent.com/benckj/mpl_style/main/uzh.mplstyle')"
   ]
  },
  {
   "cell_type": "code",
   "execution_count": null,
   "metadata": {},
   "outputs": [],
   "source": [
    "data_unprocessed_with_bots = pd.read_csv(\"/mnt/dataset1/raw_data/Bitcoin_twitter_data_english_non_textprocessed.csv\", lineterminator='\\n')\n",
    "data_unprocessed_with_bots.drop(columns=[\"Unnamed: 0\", \"user_location\", \"user_description\"], inplace=True)\n",
    "\n",
    "data_unprocessed_wo_bots = pd.read_csv(\"/mnt/dataset1/raw_data/Bitcoin_twitter_data_english_non_textprocessed_botremovedtweets.csv\", lineterminator='\\n')\n",
    "data_unprocessed_wo_bots.drop(columns=[\"Unnamed: 0\", \"user_location\", \"user_description\"], inplace=True)"
   ]
  },
  {
   "cell_type": "code",
   "execution_count": null,
   "metadata": {},
   "outputs": [],
   "source": [
    "data_unprocessed_with_bots['date'] = pd.to_datetime(data_unprocessed_with_bots['date'])\n",
    "data_unprocessed_with_bots['user_created'] = pd.to_datetime(data_unprocessed_with_bots['user_created'])\n",
    "data_unprocessed_with_bots['user_age'] = (data_unprocessed_with_bots[\"date\"] - data_unprocessed_with_bots[\"user_created\"]).dt.days\n",
    "\n",
    "data_unprocessed_wo_bots['date'] = pd.to_datetime(data_unprocessed_wo_bots['date'])\n",
    "data_unprocessed_wo_bots['user_created'] = pd.to_datetime(data_unprocessed_wo_bots['user_created'])\n",
    "data_unprocessed_wo_bots['user_age'] = (data_unprocessed_wo_bots[\"date\"] - data_unprocessed_wo_bots[\"user_created\"]).dt.days"
   ]
  },
  {
   "cell_type": "markdown",
   "metadata": {},
   "source": [
    "Tweet Count"
   ]
  },
  {
   "cell_type": "code",
   "execution_count": null,
   "metadata": {},
   "outputs": [],
   "source": [
    "# # With bots\n",
    "# create_tweet_count_by_date_plot(data_unprocessed_with_bots, \"W\", bot_removed = False)\n",
    "\n",
    "# # Without bots\n",
    "# create_tweet_count_by_date_plot(data_unprocessed_wo_bots, \"W\", bot_removed = True)"
   ]
  },
  {
   "cell_type": "markdown",
   "metadata": {},
   "source": [
    "User Based Analysis"
   ]
  },
  {
   "cell_type": "markdown",
   "metadata": {},
   "source": [
    "1. Unique Users"
   ]
  },
  {
   "cell_type": "code",
   "execution_count": null,
   "metadata": {},
   "outputs": [],
   "source": [
    "# With bots\n",
    "create_unique_user_barplot(data_unprocessed_with_bots, \"W\", bot_removed = False)\n",
    "\n",
    "# # Without bots\n",
    "create_unique_user_barplot(data_unprocessed_wo_bots, \"W\", bot_removed = True)"
   ]
  },
  {
   "cell_type": "markdown",
   "metadata": {},
   "source": [
    "probability bins"
   ]
  },
  {
   "cell_type": "code",
   "execution_count": null,
   "metadata": {},
   "outputs": [],
   "source": [
    "user_data_withbots = data_unprocessed_with_bots[[\"date\", \"user_name\", \"user_age\", \"user_followers\", \"user_friends\", \"user_favourites\", \"user_verified\"]]\n",
    "user_data_wobots = data_unprocessed_wo_bots[[\"date\", \"user_name\", \"user_age\", \"user_followers\", \"user_friends\", \"user_favourites\", \"user_verified\"]]\n",
    "\n",
    "# create user influence metric\n",
    "user_data_withbots['user_influence'] = ((user_data_withbots['user_followers']+1)/(np.log(user_data_withbots['user_friends']+1)+1))*(user_data_withbots['user_favourites']+1)*(user_data_withbots[\"user_verified\"]+1)\n",
    "user_data_wobots['user_influence'] = ((user_data_wobots['user_followers']+1)/(np.log(user_data_wobots['user_friends']+1)+1))*(user_data_wobots['user_favourites']+1)*(user_data_wobots[\"user_verified\"]+1)"
   ]
  },
  {
   "cell_type": "code",
   "execution_count": null,
   "metadata": {},
   "outputs": [],
   "source": [
    "user_data_withbots_averaged = user_data_withbots[['user_name', 'user_followers', 'user_friends', 'user_favourites', 'user_influence']].groupby('user_name').agg('mean')\n",
    "user_data_wobots_averaged = user_data_wobots[['user_name', 'user_followers', 'user_friends', 'user_favourites', 'user_influence']].groupby('user_name').agg('mean')"
   ]
  },
  {
   "cell_type": "markdown",
   "metadata": {},
   "source": [
    "2. Probability bins plots"
   ]
  },
  {
   "cell_type": "code",
   "execution_count": null,
   "metadata": {},
   "outputs": [],
   "source": [
    "def create_user_bins_plot(data, metric, bin_count, bot_removed):\n",
    "    data_fn = data[['user_name', metric]]\n",
    "    \n",
    "    percentiles = np.percentile(data_fn[metric], np.linspace(0, 100, bin_count+1))\n",
    "\n",
    "    # Bin the data based on percentiles\n",
    "    data_fn['bin'] = pd.cut(data_fn[metric], bins=percentiles, labels=False)\n",
    "\n",
    "    # Count the number of unique users in each bin\n",
    "    unique_users_per_bin = data_fn.groupby('bin')['user_name'].nunique()\n",
    "\n",
    "    # Plot the table\n",
    "    plt.bar(range(len(unique_users_per_bin)), unique_users_per_bin)\n",
    "    plt.xlabel(f'Percentile Bins of average count of {metric}')\n",
    "    plt.ylabel('Number of Users')\n",
    "    plt.xticks(range(len(unique_users_per_bin)), [f'{int(percentiles[i])}-{int(percentiles[i+1])}' for i in range(len(percentiles)-1)], rotation=45)\n",
    "    if bot_removed:\n",
    "        plt.title(f'Number of Unique Users in Percentile Bins of {metric} after removing Bots')\n",
    "    else:\n",
    "        plt.title(f'Number of Unique Users in Percentile Bins of {metric} without removing Bots')\n",
    "    plt.show()"
   ]
  },
  {
   "cell_type": "code",
   "execution_count": null,
   "metadata": {},
   "outputs": [],
   "source": [
    "# With bots\n",
    "create_user_bins_plot(user_data_withbots, \"user_followers\", bin_count=10, bot_removed = False)\n",
    "\n",
    "# Without bots\n",
    "create_user_bins_plot(user_data_wobots, \"user_followers\", bin_count=10, bot_removed = True)"
   ]
  },
  {
   "cell_type": "code",
   "execution_count": null,
   "metadata": {},
   "outputs": [],
   "source": [
    "# With bots\n",
    "create_user_bins_plot(user_data_withbots, \"user_friends\", bin_count=10, bot_removed = False)\n",
    "\n",
    "# Without bots\n",
    "create_user_bins_plot(user_data_wobots, \"user_friends\", bin_count=10, bot_removed = True)"
   ]
  },
  {
   "cell_type": "code",
   "execution_count": null,
   "metadata": {},
   "outputs": [],
   "source": [
    "# With bots\n",
    "create_user_bins_plot(user_data_withbots, \"user_favourites\", bin_count=10, bot_removed = False)\n",
    "\n",
    "# Without bots\n",
    "create_user_bins_plot(user_data_wobots, \"user_favourites\", bin_count=10, bot_removed = True)"
   ]
  },
  {
   "cell_type": "code",
   "execution_count": null,
   "metadata": {},
   "outputs": [],
   "source": [
    "# With bots\n",
    "create_user_bins_plot(user_data_withbots, \"user_age\", bin_count=10, bot_removed = False)\n",
    "\n",
    "# Without bots\n",
    "create_user_bins_plot(user_data_wobots, \"user_age\", bin_count=10, bot_removed = True)"
   ]
  },
  {
   "cell_type": "code",
   "execution_count": null,
   "metadata": {},
   "outputs": [],
   "source": [
    "# With bots\n",
    "create_user_bins_plot(user_data_withbots, \"user_influence\", bin_count=10, bot_removed = False)\n",
    "\n",
    "# Without bots\n",
    "create_user_bins_plot(user_data_wobots, \"user_influence\", bin_count=10, bot_removed = True)"
   ]
  },
  {
   "cell_type": "markdown",
   "metadata": {},
   "source": [
    "3. Time Series graphs"
   ]
  },
  {
   "cell_type": "code",
   "execution_count": null,
   "metadata": {},
   "outputs": [],
   "source": [
    "# With bots\n",
    "make_lineplot_with_bins_by_date(user_data_withbots, \"user_followers\", bin_count=None, bot_removed = False)\n",
    "\n",
    "# Without bots\n",
    "make_lineplot_with_bins_by_date(user_data_wobots, \"user_followers\", bin_count=None, bot_removed = True)"
   ]
  },
  {
   "cell_type": "code",
   "execution_count": null,
   "metadata": {},
   "outputs": [],
   "source": [
    "# With bots\n",
    "make_lineplot_with_bins_by_date(user_data_withbots, \"user_followers\", bin_count=10, bot_removed = False)\n",
    "\n",
    "# Without bots\n",
    "make_lineplot_with_bins_by_date(user_data_wobots, \"user_followers\", bin_count=10, bot_removed = True)"
   ]
  },
  {
   "cell_type": "code",
   "execution_count": null,
   "metadata": {},
   "outputs": [],
   "source": [
    "# With bots\n",
    "make_lineplot_with_bins_by_date(user_data_withbots, \"user_friends\", bin_count=None, bot_removed = False)\n",
    "\n",
    "# Without bots\n",
    "make_lineplot_with_bins_by_date(user_data_wobots, \"user_friends\", bin_count=None, bot_removed = True)"
   ]
  },
  {
   "cell_type": "code",
   "execution_count": null,
   "metadata": {},
   "outputs": [],
   "source": [
    "# With bots\n",
    "make_lineplot_with_bins_by_date(user_data_withbots, \"user_friends\", bin_count=10, bot_removed = False)\n",
    "\n",
    "# Without bots\n",
    "make_lineplot_with_bins_by_date(user_data_wobots, \"user_friends\", bin_count=10, bot_removed = True)"
   ]
  },
  {
   "cell_type": "code",
   "execution_count": null,
   "metadata": {},
   "outputs": [],
   "source": [
    "# With bots\n",
    "make_lineplot_with_bins_by_date(user_data_withbots, \"user_favourites\", bin_count=None, bot_removed = False)\n",
    "\n",
    "# Without bots\n",
    "make_lineplot_with_bins_by_date(user_data_wobots, \"user_favourites\", bin_count=None, bot_removed = True)"
   ]
  },
  {
   "cell_type": "code",
   "execution_count": null,
   "metadata": {},
   "outputs": [],
   "source": [
    "# With bots\n",
    "make_lineplot_with_bins_by_date(user_data_withbots, \"user_favourites\", bin_count=10, bot_removed = False)\n",
    "\n",
    "# Without bots\n",
    "make_lineplot_with_bins_by_date(user_data_wobots, \"user_favourites\", bin_count=10, bot_removed = True)"
   ]
  },
  {
   "cell_type": "code",
   "execution_count": null,
   "metadata": {},
   "outputs": [],
   "source": [
    "# With bots\n",
    "make_lineplot_with_bins_by_date(user_data_withbots, \"user_influence\", bin_count=None, bot_removed = False)\n",
    "\n",
    "# Without bots\n",
    "make_lineplot_with_bins_by_date(user_data_wobots, \"user_influence\", bin_count=None, bot_removed = True)"
   ]
  },
  {
   "cell_type": "code",
   "execution_count": null,
   "metadata": {},
   "outputs": [],
   "source": [
    "# With bots\n",
    "make_lineplot_with_bins_by_date(user_data_withbots, \"user_influence\", bin_count=8, bot_removed = False)\n",
    "\n",
    "# Without bots\n",
    "make_lineplot_with_bins_by_date(user_data_wobots, \"user_influence\", bin_count=8, bot_removed = True)"
   ]
  },
  {
   "cell_type": "code",
   "execution_count": null,
   "metadata": {},
   "outputs": [],
   "source": []
  },
  {
   "cell_type": "code",
   "execution_count": null,
   "metadata": {},
   "outputs": [],
   "source": []
  }
 ],
 "metadata": {
  "kernelspec": {
   "display_name": "Python 3",
   "language": "python",
   "name": "python3"
  },
  "language_info": {
   "codemirror_mode": {
    "name": "ipython",
    "version": 3
   },
   "file_extension": ".py",
   "mimetype": "text/x-python",
   "name": "python",
   "nbconvert_exporter": "python",
   "pygments_lexer": "ipython3",
   "version": "3.8.10"
  }
 },
 "nbformat": 4,
 "nbformat_minor": 2
}
